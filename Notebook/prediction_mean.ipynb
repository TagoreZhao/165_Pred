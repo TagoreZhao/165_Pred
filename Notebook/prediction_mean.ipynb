{
 "cells": [
  {
   "cell_type": "code",
   "execution_count": 1,
   "id": "ebdccdd5",
   "metadata": {},
   "outputs": [],
   "source": [
    "import os\n",
    "import sys\n",
    "nb_dir = os.path.split(os.getcwd())[0]\n",
    "if nb_dir not in sys.path:\n",
    "    sys.path.append(nb_dir)\n",
    "import pandas as pd\n",
    "import numpy as np\n",
    "import statsmodels.api as sm\n",
    "from tqdm import trange\n",
    "from sklearn.linear_model import Ridge  \n",
    "import warnings, numpy as np, pandas as pd"
   ]
  },
  {
   "cell_type": "code",
   "execution_count": 2,
   "id": "d765d893",
   "metadata": {},
   "outputs": [],
   "source": [
    "df_raw = pd.read_csv(\"Trump_First_Term.csv\")\n",
    "\n",
    "# --- monthly aggregation ---\n",
    "agg = {\n",
    "    \"Approve\":               \"mean\",\n",
    "    \"Disapprove\":            \"mean\",\n",
    "    \"No_Oppinion\":           \"mean\",\n",
    "    # macro variables are identical within a month → mean == first value\n",
    "    \"Unemployment_rate\":     \"mean\",\n",
    "    \"Consumer_Index_Sentiment\": \"mean\",\n",
    "    \"Real_Broad_Dollar_Index\":  \"mean\"\n",
    "}\n",
    "\n",
    "df_month = (df_raw\n",
    "            .groupby([\"Year\", \"Month\"], as_index=False)\n",
    "            .agg(agg)\n",
    "            .sort_values([\"Year\", \"Month\"]))"
   ]
  },
  {
   "cell_type": "code",
   "execution_count": 3,
   "id": "7c3706fd",
   "metadata": {},
   "outputs": [],
   "source": [
    "df_month[\"t\"] = (df_month[\"Year\"] - 2017) * 12 + (df_month[\"Month\"] - 1)\n",
    "df_month[\"months_into_term\"] = np.where(df_month[\"Year\"] < 2025,\n",
    "                                        df_month[\"t\"],\n",
    "                                        df_month[\"t\"] - ((2025-2017)*12))\n",
    "\n",
    "# seasonality\n",
    "df_month[\"sin_month\"] = np.sin(2*np.pi*df_month[\"Month\"]/12)\n",
    "df_month[\"cos_month\"] = np.cos(2*np.pi*df_month[\"Month\"]/12)\n",
    "\n",
    "# term dummy\n",
    "df_month[\"term\"] = (df_month[\"Year\"] >= 2025).astype(int)\n",
    "\n",
    "# lag features (need shift after aggregation)\n",
    "df_month[\"approve_lag1\"]  = df_month[\"Approve\"].shift(1)\n",
    "df_month[\"approve_ma3\"]   = df_month[\"Approve\"].rolling(3, min_periods=1).mean()\n",
    "\n",
    "# macro differentials\n",
    "for col in [\"Unemployment_rate\", \"Consumer_Index_Sentiment\", \"Real_Broad_Dollar_Index\"]:\n",
    "    df_month[f\"{col}_diff1\"] = df_month[col].diff(1)\n",
    "\n",
    "# economical anxiety composite\n",
    "z = df_month[[\"Unemployment_rate\",\"Consumer_Index_Sentiment\"]].apply(\n",
    "        lambda x: (x - x.mean())/x.std())\n",
    "df_month[\"econ_anxiety\"] = z[\"Unemployment_rate\"] - z[\"Consumer_Index_Sentiment\"]"
   ]
  },
  {
   "cell_type": "code",
   "execution_count": 4,
   "id": "a8af17e3",
   "metadata": {},
   "outputs": [
    {
     "name": "stdout",
     "output_type": "stream",
     "text": [
      "                 Generalized Linear Model Regression Results                  \n",
      "==============================================================================\n",
      "Dep. Variable:                Approve   No. Observations:                   54\n",
      "Model:                            GLM   Df Residuals:                       40\n",
      "Model Family:                Gaussian   Df Model:                           13\n",
      "Link Function:               Identity   Scale:                          3.1399\n",
      "Method:                          IRLS   Log-Likelihood:                -99.413\n",
      "Date:                Mon, 05 May 2025   Deviance:                       125.60\n",
      "Time:                        19:42:30   Pearson chi2:                     126.\n",
      "No. Iterations:                     3   Pseudo R-squ. (CS):             0.9611\n",
      "Covariance Type:            nonrobust                                         \n",
      "==================================================================================================\n",
      "                                     coef    std err          z      P>|z|      [0.025      0.975]\n",
      "--------------------------------------------------------------------------------------------------\n",
      "const                          -1.229e-05   6.73e-06     -1.825      0.068   -2.55e-05    9.06e-07\n",
      "Year                              -0.0092      0.007     -1.300      0.194      -0.023       0.005\n",
      "Month                             -0.0986      0.121     -0.812      0.417      -0.337       0.139\n",
      "Unemployment_rate                  0.3209      0.253      1.269      0.204      -0.175       0.816\n",
      "Consumer_Index_Sentiment           0.2043      0.106      1.924      0.054      -0.004       0.412\n",
      "Real_Broad_Dollar_Index           -0.0006      0.143     -0.004      0.997      -0.281       0.279\n",
      "t                                  0.0884      0.049      1.815      0.069      -0.007       0.184\n",
      "months_into_term                  -0.0426      0.036     -1.188      0.235      -0.113       0.028\n",
      "sin_month                         -0.5828      0.639     -0.912      0.362      -1.836       0.670\n",
      "cos_month                          0.3017      0.415      0.728      0.467      -0.511       1.114\n",
      "term                               0.0014      0.001      1.708      0.088      -0.000       0.003\n",
      "approve_lag1                      -0.0135      0.049     -0.274      0.784      -0.110       0.083\n",
      "approve_ma3                        0.9513      0.170      5.602      0.000       0.618       1.284\n",
      "Unemployment_rate_diff1           -0.1786      0.236     -0.757      0.449      -0.641       0.284\n",
      "Consumer_Index_Sentiment_diff1    -0.0525      0.092     -0.570      0.568      -0.233       0.128\n",
      "Real_Broad_Dollar_Index_diff1      0.2736      0.131      2.086      0.037       0.017       0.531\n",
      "econ_anxiety                       0.1167      0.097      1.197      0.231      -0.074       0.308\n",
      "==================================================================================================\n"
     ]
    }
   ],
   "source": [
    "feature_cols = [c for c in df_month.columns if c not in\n",
    "                [\"Approve\", \"Disapprove\", \"No_Oppinion\"]]\n",
    "\n",
    "# training through May‑2025\n",
    "train_mask = (df_month[\"Year\"] < 2025) | ((df_month[\"Year\"] == 2025) & (df_month[\"Month\"] <= 5))\n",
    "df_train   = df_month.loc[train_mask].copy()\n",
    "\n",
    "X_train = sm.add_constant(df_train[feature_cols])\n",
    "y_train = df_train[\"Approve\"]\n",
    "\n",
    "X_train = X_train.apply(pd.to_numeric, errors=\"coerce\").fillna(0)\n",
    "\n",
    "glm = sm.GLM(y_train, X_train, family=sm.families.Gaussian()).fit()\n",
    "print(glm.summary())\n"
   ]
  },
  {
   "cell_type": "code",
   "execution_count": null,
   "id": "ec29aa92",
   "metadata": {},
   "outputs": [
    {
     "name": "stdout",
     "output_type": "stream",
     "text": [
      "June‑2025 approval (aggregated polls): 45.64%   (90 % CI: 44.02 – 47.25%)\n"
     ]
    }
   ],
   "source": [
    "# -------------------------------------------------\n",
    "# Clone May‑2025 as a *DataFrame*  (note the double brackets)\n",
    "# -------------------------------------------------\n",
    "june = df_month[(df_month[\"Year\"] == 2025) & (df_month[\"Month\"] == 5)].iloc[[0]].copy()\n",
    "\n",
    "# --- update calendar fields ---\n",
    "june[\"Month\"]            = 6\n",
    "june[\"t\"]                += 1\n",
    "june[\"months_into_term\"] += 1\n",
    "june[\"sin_month\"]         = np.sin(2*np.pi*6/12)\n",
    "june[\"cos_month\"]         = np.cos(2*np.pi*6/12)\n",
    "\n",
    "# --- compute lag features BEFORE add_constant / fillna ---\n",
    "june[\"approve_lag1\"] = df_month.loc[(df_month[\"Year\"] == 2025) & (df_month[\"Month\"] == 5), \"Approve\"].values[0]\n",
    "june[\"approve_ma3\"]  = df_month.tail(3)[\"Approve\"].mean()    # Mar–May avg\n",
    "\n",
    "# -------------------------------------------------\n",
    "# Build design matrix with identical columns\n",
    "# -------------------------------------------------\n",
    "X_june = sm.add_constant(june[feature_cols], has_constant=\"add\")\n",
    "X_june = X_june.reindex(columns=X_train.columns, fill_value=0)   # keep order\n",
    "\n",
    "# -------------------------------------------------\n",
    "# Predict + 80 % CI\n",
    "# -------------------------------------------------\n",
    "pred_res = glm.get_prediction(X_june)\n",
    "pt       = float(pred_res.predicted_mean[0])\n",
    "lo, hi   = pred_res.conf_int(alpha=0.10)[0]\n",
    "\n",
    "print(f\"June‑2025 approval (aggregated polls): {pt:.2f}%   \"\n",
    "      f\"(90 % CI: {lo:.2f} – {hi:.2f}%)\")"
   ]
  }
 ],
 "metadata": {
  "kernelspec": {
   "display_name": "stat165",
   "language": "python",
   "name": "python3"
  },
  "language_info": {
   "codemirror_mode": {
    "name": "ipython",
    "version": 3
   },
   "file_extension": ".py",
   "mimetype": "text/x-python",
   "name": "python",
   "nbconvert_exporter": "python",
   "pygments_lexer": "ipython3",
   "version": "3.10.16"
  }
 },
 "nbformat": 4,
 "nbformat_minor": 5
}
