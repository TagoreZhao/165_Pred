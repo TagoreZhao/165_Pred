{
 "cells": [
  {
   "cell_type": "code",
   "execution_count": 1,
   "id": "077ef4cd",
   "metadata": {},
   "outputs": [],
   "source": [
    "import os\n",
    "import sys\n",
    "nb_dir = os.path.split(os.getcwd())[0]\n",
    "if nb_dir not in sys.path:\n",
    "    sys.path.append(nb_dir)\n",
    "import pandas as pd"
   ]
  },
  {
   "cell_type": "code",
   "execution_count": 2,
   "id": "50bcb19d",
   "metadata": {},
   "outputs": [],
   "source": [
    "df1_app = pd.read_excel(\"/home/tagore/repos/Trump_Pred/data/Trump First Term .xlsx\", sheet_name=\"Approval Rate\")\n",
    "df2_unemp = pd.read_excel(\"/home/tagore/repos/Trump_Pred/data/Trump First Term .xlsx\", sheet_name=\"unemployment_rate\")\n",
    "df3_cis = pd.read_excel(\"/home/tagore/repos/Trump_Pred/data/Trump First Term .xlsx\", sheet_name=\"consumer_index_sentiment\")"
   ]
  },
  {
   "cell_type": "code",
   "execution_count": 3,
   "id": "20aeb1cc",
   "metadata": {},
   "outputs": [],
   "source": [
    "month_map = {\n",
    "    'Jan': 1, 'Feb': 2, 'Mar': 3, 'Apr': 4,\n",
    "    'May': 5, 'Jun': 6, 'Jul': 7, 'Aug': 8,\n",
    "    'Sep': 9, 'Oct': 10, 'Nov': 11, 'Dec': 12\n",
    "}\n",
    "\n",
    "\n",
    "df1_app['Month'] = df1_app['Month'].map(month_map)"
   ]
  },
  {
   "cell_type": "code",
   "execution_count": 4,
   "id": "5a6257be",
   "metadata": {},
   "outputs": [],
   "source": [
    "\n",
    "df_merged = pd.merge(df1_app, df2_unemp, on=[\"Year\", \"Month\"], how=\"left\")\n",
    "\n",
    "df_merged = pd.merge(df_merged, df3_cis, on=[\"Year\", \"Month\"], how=\"left\")"
   ]
  },
  {
   "cell_type": "code",
   "execution_count": 6,
   "id": "af0b71c7",
   "metadata": {},
   "outputs": [],
   "source": [
    "df_merged.to_csv(\"merged_dataset.csv\", index=False)"
   ]
  }
 ],
 "metadata": {
  "kernelspec": {
   "display_name": "stat165",
   "language": "python",
   "name": "python3"
  },
  "language_info": {
   "codemirror_mode": {
    "name": "ipython",
    "version": 3
   },
   "file_extension": ".py",
   "mimetype": "text/x-python",
   "name": "python",
   "nbconvert_exporter": "python",
   "pygments_lexer": "ipython3",
   "version": "3.10.16"
  }
 },
 "nbformat": 4,
 "nbformat_minor": 5
}
